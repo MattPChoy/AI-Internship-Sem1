{
  "nbformat": 4,
  "nbformat_minor": 0,
  "metadata": {
    "colab": {
      "provenance": [],
      "collapsed_sections": [],
      "authorship_tag": "ABX9TyP2u9gZpFv3LMRpUmH8RIv4",
      "include_colab_link": true
    },
    "kernelspec": {
      "name": "python3",
      "display_name": "Python 3"
    },
    "language_info": {
      "name": "python"
    }
  },
  "cells": [
    {
      "cell_type": "markdown",
      "metadata": {
        "id": "view-in-github",
        "colab_type": "text"
      },
      "source": [
        "<a href=\"https://colab.research.google.com/github/MattPChoy/AI-Internship-Sem1/blob/main/demo/2-PatternRecognition/2a_CNNs_on_LFW.ipynb\" target=\"_parent\"><img src=\"https://colab.research.google.com/assets/colab-badge.svg\" alt=\"Open In Colab\"/></a>"
      ]
    },
    {
      "cell_type": "markdown",
      "source": [
        "# Convolutional Neural Networks (CNNs) on Labelled Faces in the Wild (LFW)\n",
        "The next component of this lab is to create a convolutional neural network (CNN) that classifies the faces in the LFW dataset, using the Adam optimiser and (sparse) categorical cross-entropy. "
      ],
      "metadata": {
        "id": "hFUpY4oH06IP"
      }
    },
    {
      "cell_type": "code",
      "source": [
        "\"\"\"\n",
        "We first download the dataset, and interrogate it, so that we have an idea of its \n",
        "    structure and dimensionality.\n",
        "\"\"\"\n",
        "from sklearn.datasets import fetch_lfw_people\n",
        "from sklearn.model_selection import train_test_split\n",
        "from sklearn.metrics import classification_report\n",
        "\n",
        "import numpy as np"
      ],
      "metadata": {
        "id": "STLJwhYu1LUz"
      },
      "execution_count": null,
      "outputs": []
    },
    {
      "cell_type": "code",
      "source": [
        "import tensorflow as tf"
      ],
      "metadata": {
        "id": "R_0u-7-t1xlz"
      },
      "execution_count": null,
      "outputs": []
    },
    {
      "cell_type": "code",
      "source": [
        "# Download the data, if not already on disk and load it as numpy arrays.\n",
        "lfw_people = fetch_lfw_people(min_faces_per_person=70, resize=0.4)"
      ],
      "metadata": {
        "id": "XCchnOg-1YXw"
      },
      "execution_count": null,
      "outputs": []
    },
    {
      "cell_type": "code",
      "source": [
        "n_samples, h, w = lfw_people.images.shape\n",
        "print(f\"In the Labeled Faces in the Wild (LFW) dataset, we have {n_samples} images of size ({h}, {w})\")"
      ],
      "metadata": {
        "colab": {
          "base_uri": "https://localhost:8080/"
        },
        "id": "rLGLC-yQ1dI8",
        "outputId": "3d833d12-7d13-441c-d65f-fe11169528c4"
      },
      "execution_count": null,
      "outputs": [
        {
          "output_type": "stream",
          "name": "stdout",
          "text": [
            "In the Labeled Faces in the Wild (LFW) dataset, we have 1288 images of size (50, 37)\n"
          ]
        }
      ]
    },
    {
      "cell_type": "code",
      "source": [
        "# for machine learning we use the 2 data directly (as relative pixel\n",
        "# positions info is ignored by this model)\n",
        "X = lfw_people.data\n",
        "n_features = X.shape[1]\n",
        "\n",
        "# the label to predict is the id of the person\n",
        "y = lfw_people.target\n",
        "target_names = lfw_people.target_names\n",
        "n_classes = target_names.shape[0]\n",
        "\n",
        "print(\"Total dataset size:\")\n",
        "print(\"n_samples: %d\" % n_samples)\n",
        "print(\"n_features: %d\" % n_features)\n",
        "print(\"n_classes: %d\" % n_classes)"
      ],
      "metadata": {
        "colab": {
          "base_uri": "https://localhost:8080/"
        },
        "id": "j3on1Bo31esm",
        "outputId": "757cbb30-b06c-435a-b6da-9d02bee5544e"
      },
      "execution_count": null,
      "outputs": [
        {
          "output_type": "stream",
          "name": "stdout",
          "text": [
            "Total dataset size:\n",
            "n_samples: 1288\n",
            "n_features: 1850\n",
            "n_classes: 7\n"
          ]
        }
      ]
    },
    {
      "cell_type": "code",
      "source": [
        "\"\"\"\n",
        "We then split the data into training and testing set, using the sklearn train_test_split tool.\n",
        "We do this, to prevent \n",
        "\"\"\"\n",
        "\n",
        "# Split into a training set and a test set using a stratified k fold\n",
        "X_train, X_test, y_train, y_test = train_test_split(X, y, test_size=0.25, random_state=42)\n",
        "# Compute a PCA (eigenfaces) on the face dataset (treated as unlabeled\n",
        "# dataset): unsupervised feature extraction / dimensionality reduction\n",
        "n_components = 150 # Want to keep 150 most important pixels.\n",
        "\n",
        "# Center the data\n",
        "mean = tf.reduce_mean(X_train, axis=0)\n",
        "X_train -= mean\n",
        "X_test -= mean"
      ],
      "metadata": {
        "id": "r0xpYxu717b6"
      },
      "execution_count": null,
      "outputs": []
    },
    {
      "cell_type": "code",
      "source": [
        "class DenseNet(tf.keras.Model):\n",
        "    def __init__(self, n_classes):\n",
        "        \"\"\"\n",
        "        tf.keras.layers.dense(units, activation, ...)\n",
        "            units: A positive integer denoting the dimensionality of the output space\n",
        "            activation: The activation function to be applied to the output of the layer.\n",
        "        \"\"\"\n",
        "        super().__init__()\n",
        "        self.dense1 = tf.keras.layers.Dense(units=1024, activation=\"relu\")\n",
        "        self.dense2 = tf.keras.layers.Dense(units=512, activation=\"relu\")\n",
        "        self.dense3 = tf.keras.layers.Dense(units=256, activation=\"relu\")\n",
        "        # Use SoftMax to convert the values into class prediction probabilities.\n",
        "        self.dense4 = tf.keras.layers.Dense(units=n_classes, activation=\"softmax\")\n",
        "    \n",
        "    def call(self, inputs):\n",
        "        # flatten?\n",
        "        x = self.dense1(inputs)\n",
        "        x = self.dense2(x)\n",
        "        x = self.dense3(x)\n",
        "        return self.dense4(x)"
      ],
      "metadata": {
        "id": "xM7jq9ur1mlh"
      },
      "execution_count": null,
      "outputs": []
    },
    {
      "cell_type": "code",
      "source": [
        "class DenseNet(tf.keras.Model):\n",
        "    def __init__(self, n_classes):\n",
        "        \"\"\"\n",
        "        tf.keras.layers.dense(units, activation, ...)\n",
        "            units: A positive integer denoting the dimensionality of the output space\n",
        "            activation: The activation function to be applied to the output of the layer.\n",
        "        \"\"\"\n",
        "        super().__init__()\n",
        "        self.dense1 = tf.keras.layers.Dense(units=1024, activation=\"relu\")\n",
        "        self.dense2 = tf.keras.layers.Dense(units=512, activation=\"relu\")\n",
        "        self.dense3 = tf.keras.layers.Dense(units=256, activation=\"relu\")\n",
        "        # Use SoftMax to convert the values into class prediction probabilities.\n",
        "        self.dense4 = tf.keras.layers.Dense(units=n_classes, activation=\"softmax\")\n",
        "    \n",
        "    def call(self, inputs):\n",
        "        # flatten?\n",
        "        d1 = self.dense1(inputs)\n",
        "        d2 = self.dense2(d1)\n",
        "        d3 = self.dense3(d2)\n",
        "        return self.dense4(d3)"
      ],
      "metadata": {
        "id": "kfpOG4b42L67"
      },
      "execution_count": null,
      "outputs": []
    },
    {
      "cell_type": "code",
      "source": [
        "denseNet = DenseNet(n_classes)\n",
        "denseNet.compile(optimizer=\"adam\", loss=\"sparse_categorical_crossentropy\", metrics=['accuracy'])\n",
        "\n",
        "x_train = tf.reshape(X_train, (len(X_train), np.prod(X_train.shape[1:])))\n",
        "x_test = tf.reshape(X_test, (len(X_test), np.prod(X_test.shape[1:])))\n",
        "denseHistory = denseNet.fit(x_train, y_train, epochs=20, batch_size=32, validation_data=(x_test, y_test))"
      ],
      "metadata": {
        "colab": {
          "base_uri": "https://localhost:8080/"
        },
        "id": "E5o1j5xC2XzV",
        "outputId": "78c3bd1c-a3da-4e2a-e5fd-0cb7829a0fff"
      },
      "execution_count": null,
      "outputs": [
        {
          "output_type": "stream",
          "name": "stdout",
          "text": [
            "Epoch 1/20\n",
            "31/31 [==============================] - 1s 31ms/step - loss: 32.2857 - accuracy: 0.4006 - val_loss: 9.8770 - val_accuracy: 0.5373\n",
            "Epoch 2/20\n",
            "31/31 [==============================] - 1s 28ms/step - loss: 8.0403 - accuracy: 0.6242 - val_loss: 7.1081 - val_accuracy: 0.6087\n",
            "Epoch 3/20\n",
            "31/31 [==============================] - 1s 31ms/step - loss: 4.9563 - accuracy: 0.7226 - val_loss: 5.7506 - val_accuracy: 0.6801\n",
            "Epoch 4/20\n",
            "31/31 [==============================] - 1s 31ms/step - loss: 3.0162 - accuracy: 0.7836 - val_loss: 4.5915 - val_accuracy: 0.6708\n",
            "Epoch 5/20\n",
            "31/31 [==============================] - 1s 31ms/step - loss: 1.3612 - accuracy: 0.8727 - val_loss: 3.9837 - val_accuracy: 0.6988\n",
            "Epoch 6/20\n",
            "31/31 [==============================] - 1s 29ms/step - loss: 0.9474 - accuracy: 0.8996 - val_loss: 3.7423 - val_accuracy: 0.6863\n",
            "Epoch 7/20\n",
            "31/31 [==============================] - 1s 24ms/step - loss: 1.2498 - accuracy: 0.8944 - val_loss: 4.4922 - val_accuracy: 0.7267\n",
            "Epoch 8/20\n",
            "31/31 [==============================] - 1s 24ms/step - loss: 1.0667 - accuracy: 0.9037 - val_loss: 3.9374 - val_accuracy: 0.7484\n",
            "Epoch 9/20\n",
            "31/31 [==============================] - 1s 24ms/step - loss: 1.1101 - accuracy: 0.9027 - val_loss: 4.4854 - val_accuracy: 0.7453\n",
            "Epoch 10/20\n",
            "31/31 [==============================] - 1s 24ms/step - loss: 0.6553 - accuracy: 0.9389 - val_loss: 3.2646 - val_accuracy: 0.7484\n",
            "Epoch 11/20\n",
            "31/31 [==============================] - 1s 25ms/step - loss: 0.6521 - accuracy: 0.9275 - val_loss: 4.0419 - val_accuracy: 0.7453\n",
            "Epoch 12/20\n",
            "31/31 [==============================] - 1s 24ms/step - loss: 0.3753 - accuracy: 0.9431 - val_loss: 3.5303 - val_accuracy: 0.7484\n",
            "Epoch 13/20\n",
            "31/31 [==============================] - 1s 24ms/step - loss: 0.5118 - accuracy: 0.9317 - val_loss: 4.0792 - val_accuracy: 0.7640\n",
            "Epoch 14/20\n",
            "31/31 [==============================] - 1s 24ms/step - loss: 0.7702 - accuracy: 0.9306 - val_loss: 4.2682 - val_accuracy: 0.7578\n",
            "Epoch 15/20\n",
            "31/31 [==============================] - 1s 24ms/step - loss: 0.5522 - accuracy: 0.9472 - val_loss: 2.9912 - val_accuracy: 0.7764\n",
            "Epoch 16/20\n",
            "31/31 [==============================] - 1s 24ms/step - loss: 0.4464 - accuracy: 0.9493 - val_loss: 2.9599 - val_accuracy: 0.7795\n",
            "Epoch 17/20\n",
            "31/31 [==============================] - 1s 26ms/step - loss: 0.2738 - accuracy: 0.9627 - val_loss: 4.0773 - val_accuracy: 0.7422\n",
            "Epoch 18/20\n",
            "31/31 [==============================] - 1s 30ms/step - loss: 0.2138 - accuracy: 0.9720 - val_loss: 4.4230 - val_accuracy: 0.7329\n",
            "Epoch 19/20\n",
            "31/31 [==============================] - 1s 31ms/step - loss: 0.1274 - accuracy: 0.9762 - val_loss: 3.4502 - val_accuracy: 0.7795\n",
            "Epoch 20/20\n",
            "31/31 [==============================] - 1s 30ms/step - loss: 0.2069 - accuracy: 0.9731 - val_loss: 4.4131 - val_accuracy: 0.7733\n"
          ]
        }
      ]
    },
    {
      "cell_type": "code",
      "source": [
        "print(\"=========================Model Evaluation=========================\\n\\n\\n\")\n",
        "loss, accuracy = denseNet.evaluate(X_test, y_test)"
      ],
      "metadata": {
        "colab": {
          "base_uri": "https://localhost:8080/"
        },
        "id": "PSNDify22aXS",
        "outputId": "13194112-14a0-4bb6-e7b9-4c7f4455f171"
      },
      "execution_count": null,
      "outputs": [
        {
          "output_type": "stream",
          "name": "stdout",
          "text": [
            "=========================Model Evaluation=========================\n",
            "\n",
            "\n",
            "\n",
            "11/11 [==============================] - 0s 7ms/step - loss: 4.4131 - accuracy: 0.7733\n"
          ]
        }
      ]
    },
    {
      "cell_type": "code",
      "source": [
        "# can use denseHistory.history.keys() to get these keys.\n",
        "print(denseHistory.history.keys())"
      ],
      "metadata": {
        "colab": {
          "base_uri": "https://localhost:8080/"
        },
        "id": "NwfGKrQB4P2b",
        "outputId": "a4e27439-23ca-4c0e-bead-be02851165e9"
      },
      "execution_count": null,
      "outputs": [
        {
          "output_type": "stream",
          "name": "stdout",
          "text": [
            "dict_keys(['loss', 'accuracy', 'val_loss', 'val_accuracy'])\n"
          ]
        }
      ]
    },
    {
      "cell_type": "code",
      "source": [
        "import matplotlib.pyplot as plt\n",
        "\n",
        "trainLoss, trainAcc = denseHistory.history['loss'], denseHistory.history['accuracy']\n",
        "valLoss, valAcc = denseHistory.history['val_loss'], denseHistory.history['val_accuracy']\n",
        "\n",
        "plt.plot(trainLoss)\n",
        "plt.plot(valLoss)\n",
        "plt.title(\"Model Loss - Training\")\n",
        "plt.ylabel(\"accuracy\")\n",
        "plt.xlabel(\"epoch\")\n",
        "plt.legend(['loss (train)', 'loss (valid)'], loc='upper left')\n",
        "plt.show()"
      ],
      "metadata": {
        "colab": {
          "base_uri": "https://localhost:8080/",
          "height": 295
        },
        "id": "DuzQLKaK2mxT",
        "outputId": "54c9236d-025e-4d54-9961-a6bc05a9aab1"
      },
      "execution_count": null,
      "outputs": [
        {
          "output_type": "display_data",
          "data": {
            "text/plain": [
              "<Figure size 432x288 with 1 Axes>"
            ],
            "image/png": "[encoded data removed]"
          },
          "metadata": {
            "needs_background": "light"
          }
        }
      ]
    },
    {
      "cell_type": "code",
      "source": [
        "plt.plot(trainAcc)\n",
        "plt.plot(valAcc)\n",
        "plt.title(\"Model Accuracy - Training\")\n",
        "plt.ylabel(\"accuracy\")\n",
        "plt.xlabel(\"epoch\")\n",
        "plt.legend(['accuracy (train)', 'accuracy (valid)'], loc='upper left')\n",
        "plt.show()"
      ],
      "metadata": {
        "colab": {
          "base_uri": "https://localhost:8080/",
          "height": 295
        },
        "id": "tbq0ia2I4Jl8",
        "outputId": "e12ad268-9190-4a29-a530-af19f9da44ee"
      },
      "execution_count": null,
      "outputs": [
        {
          "output_type": "display_data",
          "data": {
            "text/plain": [
              "<Figure size 432x288 with 1 Axes>"
            ],
            "image/png": "[encoded data removed]"
          },
          "metadata": {
            "needs_background": "light"
          }
        }
      ]
    }
  ]
}